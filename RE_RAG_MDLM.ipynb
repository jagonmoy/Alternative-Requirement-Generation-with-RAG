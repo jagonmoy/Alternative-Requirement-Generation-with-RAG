{
  "nbformat": 4,
  "nbformat_minor": 0,
  "metadata": {
    "colab": {
      "provenance": [],
      "authorship_tag": "ABX9TyPN3DoLLLtBUXn2lER4NqD7",
      "include_colab_link": true
    },
    "kernelspec": {
      "name": "python3",
      "display_name": "Python 3"
    },
    "language_info": {
      "name": "python"
    }
  },
  "cells": [
    {
      "cell_type": "markdown",
      "metadata": {
        "id": "view-in-github",
        "colab_type": "text"
      },
      "source": [
        "<a href=\"https://colab.research.google.com/github/jagonmoy/Creative-Requirement-Generation-with-RAG-and-MDLM/blob/main/RE_RAG_MDLM.ipynb\" target=\"_parent\"><img src=\"https://colab.research.google.com/assets/colab-badge.svg\" alt=\"Open In Colab\"/></a>"
      ]
    },
    {
      "cell_type": "code",
      "execution_count": null,
      "metadata": {
        "id": "EZcYcacFt4pS"
      },
      "outputs": [],
      "source": [
        "!pip install -q transformers sentence-transformers faiss-cpu"
      ]
    },
    {
      "cell_type": "code",
      "source": [
        "# import libraries\n",
        "from transformers import AutoTokenizer, AutoModelForSeq2SeqLM\n",
        "from sentence_transformers import SentenceTransformer\n",
        "import faiss\n",
        "import numpy as np\n",
        "import torch"
      ],
      "metadata": {
        "id": "z6fdhfrru4FL"
      },
      "execution_count": null,
      "outputs": []
    },
    {
      "cell_type": "code",
      "source": [
        "# Load sentence embedding model for retrieval\n",
        "retriever = SentenceTransformer('all-MiniLM-L6-v2')"
      ],
      "metadata": {
        "id": "OYb2-KnJu_ti"
      },
      "execution_count": null,
      "outputs": []
    },
    {
      "cell_type": "code",
      "source": [
        "# Load generative language model (T5)\n",
        "tokenizer = AutoTokenizer.from_pretrained(\"google/flan-t5-base\")\n",
        "generator = AutoModelForSeq2SeqLM.from_pretrained(\"google/flan-t5-base\")\n",
        "generator.eval()"
      ],
      "metadata": {
        "id": "aVYg2X_Hvori"
      },
      "execution_count": null,
      "outputs": []
    },
    {
      "cell_type": "code",
      "source": [
        "# Sample requirement corpus (expand this as needed)\n",
        "docs = [\n",
        "    \"Users can pause subscriptions anytime.\",\n",
        "    \"Subscribers should be able to gift their plan to friends.\",\n",
        "    \"Users can manage billing preferences via the account dashboard.\",\n",
        "    \"The app allows subscription rescheduling and reminders.\",\n",
        "    \"Users can view their usage statistics over time.\",\n",
        "    \"The system should allow exporting invoices monthly.\",\n",
        "    \"Users can set custom payment thresholds.\",\n",
        "]"
      ],
      "metadata": {
        "id": "Uuwe3Ylgv2IR"
      },
      "execution_count": null,
      "outputs": []
    },
    {
      "cell_type": "code",
      "source": [
        "# Generate vector embeddings\n",
        "doc_embeddings = retriever.encode(docs)\n",
        "index = faiss.IndexFlatL2(doc_embeddings.shape[1])\n",
        "index.add(np.array(doc_embeddings))"
      ],
      "metadata": {
        "id": "FcPi4uvbv9Si"
      },
      "execution_count": null,
      "outputs": []
    },
    {
      "cell_type": "code",
      "source": [
        "def retrieve_context(query, top_k=2):\n",
        "    query_vec = retriever.encode([query])\n",
        "    _, indices = index.search(np.array(query_vec), top_k)\n",
        "    return [docs[i] for i in indices[0]]"
      ],
      "metadata": {
        "id": "jJkJ-yt6v9VZ"
      },
      "execution_count": null,
      "outputs": []
    },
    {
      "cell_type": "code",
      "source": [
        "def generate_creatives(base_req, n_variants=3):\n",
        "    context = retrieve_context(base_req)\n",
        "    context_str = \" | \".join(context)\n",
        "\n",
        "    prompt = f\"\"\"Given the requirement: \"{base_req}\" And examples: \"{context_str}\" Generate a creative and useful alternative requirement.\"\"\"\n",
        "\n",
        "    inputs = tokenizer(prompt, return_tensors=\"pt\", truncation=True)\n",
        "    output = generator.generate(\n",
        "        **inputs,\n",
        "        max_new_tokens=50,\n",
        "        num_return_sequences=n_variants,\n",
        "        do_sample=True,\n",
        "        top_k=50,\n",
        "        temperature=0.9,\n",
        "    )\n",
        "\n",
        "    return [tokenizer.decode(o, skip_special_tokens=True) for o in output]"
      ],
      "metadata": {
        "id": "YNknk1C-wCZ5"
      },
      "execution_count": null,
      "outputs": []
    },
    {
      "cell_type": "code",
      "source": [
        "# Try your own requirement\n",
        "base = \"Users should be able to manage their subscriptions.\"\n",
        "\n",
        "results = generate_creatives(base)\n",
        "print(\"Creative Alternatives:\\n\")\n",
        "for res in results:\n",
        "    print(\"-\", res)"
      ],
      "metadata": {
        "id": "w7JXclbtwNkS"
      },
      "execution_count": null,
      "outputs": []
    }
  ]
}