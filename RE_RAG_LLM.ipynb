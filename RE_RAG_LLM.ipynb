{
  "nbformat": 4,
  "nbformat_minor": 0,
  "metadata": {
    "colab": {
      "provenance": [],
      "authorship_tag": "ABX9TyOU8b73/k/jS/WjvF3WUJCW",
      "include_colab_link": true
    },
    "kernelspec": {
      "name": "python3",
      "display_name": "Python 3"
    },
    "language_info": {
      "name": "python"
    }
  },
  "cells": [
    {
      "cell_type": "markdown",
      "metadata": {
        "id": "view-in-github",
        "colab_type": "text"
      },
      "source": [
        "<a href=\"https://colab.research.google.com/github/jagonmoy/Creative-Requirement-Generation-with-RAG-and-MDLM/blob/main/RE_RAG_LLM.ipynb\" target=\"_parent\"><img src=\"https://colab.research.google.com/assets/colab-badge.svg\" alt=\"Open In Colab\"/></a>"
      ]
    },
    {
      "cell_type": "code",
      "execution_count": null,
      "metadata": {
        "id": "EZcYcacFt4pS"
      },
      "outputs": [],
      "source": [
        "!pip install -q transformers sentence-transformers faiss-cpu"
      ]
    },
    {
      "cell_type": "code",
      "source": [
        "# import libraries\n",
        "from transformers import BertTokenizer, BertForMaskedLM\n",
        "from sentence_transformers import SentenceTransformer\n",
        "import faiss\n",
        "import numpy as np\n",
        "import torch"
      ],
      "metadata": {
        "id": "z6fdhfrru4FL"
      },
      "execution_count": null,
      "outputs": []
    },
    {
      "cell_type": "code",
      "source": [
        "# RAG\n",
        "\n",
        "# Load sentence embedding model for retrieval . It is required to convert sentence into vector embeddings\n",
        "retriever = SentenceTransformer('all-MiniLM-L6-v2')\n",
        "\n",
        "\n",
        "# Sample requirement corpus. This is just a sample in real-word scenario this will be too big. This is just for the prototype so tried to keep it simple.\n",
        "docs = [\n",
        "    \"Users can pause subscriptions anytime.\",\n",
        "    \"Subscribers should be able to gift their plan to friends.\",\n",
        "    \"Users can manage billing preferences via the account dashboard.\",\n",
        "    \"The app allows subscription rescheduling and reminders.\",\n",
        "    \"Users can view their usage statistics over time.\",\n",
        "    \"The system should allow exporting invoices monthly.\",\n",
        "    \"Users can set custom payment thresholds.\",\n",
        "]\n",
        "\n",
        "\n",
        "# Generate vector embeddings for all requirement texts using a sentence transformer.\n",
        "doc_embeddings = retriever.encode(docs)\n",
        "\n",
        "# Create a FAISS index using L2 (Euclidean) distance to enable fast similarity search.\n",
        "index = faiss.IndexFlatL2(doc_embeddings.shape[1])\n",
        "\n",
        "# Add all the requirement embeddings to the FAISS index. This makes the index ready to perform nearest-neighbor searches for any new query.\n",
        "index.add(np.array(doc_embeddings))\n",
        "\n",
        "def retrieve_context(query, top_k=2):\n",
        "    # Similar to the requirements corpus encode the query as well. Cause We need to find similar requirements to the provided query\n",
        "    query_vec = retriever.encode([query])\n",
        "\n",
        "    # Get indices of top K requirements from the corpus which are similar to the query\n",
        "    _, indices = index.search(np.array(query_vec), top_k)\n",
        "\n",
        "    # return those requirements\n",
        "    return [docs[i] for i in indices[0]]"
      ],
      "metadata": {
        "id": "OYb2-KnJu_ti"
      },
      "execution_count": null,
      "outputs": []
    },
    {
      "cell_type": "code",
      "source": [
        "# RAG with FLAT_T5\n",
        "from transformers import AutoTokenizer, AutoModelForSeq2SeqLM\n",
        "\n",
        "\n",
        "# Load generative language model (T5)\n",
        "tokenizer = AutoTokenizer.from_pretrained(\"google/flan-t5-base\")\n",
        "generator = AutoModelForSeq2SeqLM.from_pretrained(\"google/flan-t5-base\")\n",
        "# the below line removes randomness to predict similar results which is better for ouputs and makes the model lightweight to run\n",
        "generator.eval()\n",
        "\n",
        "def generate_creatives_using_FLAN_T5(base_req, n_variants=3):\n",
        "    # Get the relevant context similar to the base query using RAG and construct a context string\n",
        "    context = retrieve_context(base_req)\n",
        "    context_str = \",\".join(context)\n",
        "\n",
        "    # Construct the full Prompt with base query and context string\n",
        "    prompt = f\"\"\"Given the requirement: \"{base_req}\" And examples: \"{context_str}\" Generate a creative and useful alternative requirement.\"\"\"\n",
        "\n",
        "    # convert the text prompt to a pytorch format which the model expects, also ensure the text is cut off safely if the token length is too big\n",
        "    inputs = tokenizer(prompt, return_tensors=\"pt\", truncation=True)\n",
        "    output = generator.generate(\n",
        "        **inputs,\n",
        "        max_new_tokens=50,\n",
        "        num_return_sequences=n_variants,\n",
        "        do_sample=True, # l randomly samples from the top tokens for creativity and variation\n",
        "        top_k=50, # When sampling, only consider the top 50 most likely next tokens\n",
        "        temperature=0.9, # determines how bold and riskier the sampling is\n",
        "    )\n",
        "    # loop over each output decode them and remove special tokens\n",
        "    return [tokenizer.decode(o, skip_special_tokens=True) for o in output]"
      ],
      "metadata": {
        "id": "YNknk1C-wCZ5"
      },
      "execution_count": null,
      "outputs": []
    },
    {
      "cell_type": "code",
      "source": [
        "# Try your own requirement\n",
        "base = \"Users should be able to manage their subscriptions.\"\n",
        "\n",
        "results = generate_creatives_using_FLAN_T5(base)\n",
        "print(\"Creative Alternatives:\\n\")\n",
        "for res in results:\n",
        "    print(\"-\", res)"
      ],
      "metadata": {
        "id": "w7JXclbtwNkS"
      },
      "execution_count": null,
      "outputs": []
    },
    {
      "cell_type": "code",
      "source": [
        "# RAG with BERT\n",
        "import spacy\n",
        "from transformers import BertTokenizer, BertForMaskedLM\n",
        "import random\n",
        "\n",
        "# Load English tokenizer from spaCy\n",
        "nlp = spacy.load(\"en_core_web_sm\")\n",
        "\n",
        "# Load BERT model\n",
        "bert_tokenizer = BertTokenizer.from_pretrained(\"bert-base-uncased\")\n",
        "bert_model = BertForMaskedLM.from_pretrained(\"bert-base-uncased\")\n",
        "bert_model.eval()\n",
        "\n",
        "def mask_important_word_randomized(text):\n",
        "    doc = nlp(text)\n",
        "    # Collect all verbs and nouns with their positions\n",
        "    candidates = [(token.text, token.i) for token in doc if token.pos_ in [\"VERB\", \"NOUN\"]]\n",
        "\n",
        "    if not candidates:\n",
        "        return None  # fallback if nothing to mask\n",
        "\n",
        "    # Randomly select one candidate to mask\n",
        "    _, index_to_mask = random.choice(candidates)\n",
        "\n",
        "    # Reconstruct the sentence with the [MASK] at the right index\n",
        "    words = text.split()\n",
        "\n",
        "    # Handle spaCy/BERT token mismatch by using index from original text\n",
        "    if index_to_mask < len(words):  # safe check\n",
        "        words[index_to_mask] = \"[MASK]\"\n",
        "    else:\n",
        "        return None\n",
        "\n",
        "    return \" \".join(words)\n",
        "\n",
        "\n",
        "def generate_creatives_using_BERT_SMART_MASK(base_req, n_variants=3):\n",
        "    # Retrieve context\n",
        "    context = retrieve_context(base_req)\n",
        "    context_str = \" \".join(context[:2])  # Add top 2 similar requirements\n",
        "\n",
        "    # Smart mask a key verb or noun in base_req\n",
        "    masked_req = mask_important_word_randomized(base_req)\n",
        "    print(masked_req)\n",
        "    if not masked_req:\n",
        "        return [base_req]  # Nothing to mask\n",
        "\n",
        "    # Combine context and masked requirement\n",
        "    prompt = f\"{context_str} [SEP] {masked_req}\"\n",
        "\n",
        "    # Tokenize and find [MASK] position\n",
        "    inputs = bert_tokenizer(prompt, return_tensors=\"pt\", truncation=True)\n",
        "    mask_index = torch.where(inputs[\"input_ids\"] == bert_tokenizer.mask_token_id)[1]\n",
        "\n",
        "    # Predict top replacements for [MASK]\n",
        "    with torch.no_grad():\n",
        "        outputs = bert_model(**inputs)\n",
        "    logits = outputs.logits\n",
        "    mask_logits = logits[0, mask_index, :]\n",
        "    top_tokens = torch.topk(mask_logits, n_variants, dim=1).indices[0].tolist()\n",
        "\n",
        "    # Replace [MASK] with top token predictions\n",
        "    variants = []\n",
        "    for token_id in top_tokens:\n",
        "        predicted_word = bert_tokenizer.decode([token_id]).strip()\n",
        "        filled = masked_req.replace(\"[MASK]\", predicted_word)\n",
        "        variants.append(filled)\n",
        "\n",
        "    return variants"
      ],
      "metadata": {
        "id": "MSsndlBvRJ3S"
      },
      "execution_count": null,
      "outputs": []
    },
    {
      "cell_type": "code",
      "source": [
        "base_req = \"Users can schedule appointments through the app.\"\n",
        "results = generate_creatives_using_BERT_SMART_MASK(base_req)\n",
        "for i, r in enumerate(results, 1):\n",
        "    print(f\"{i}. {r}\")"
      ],
      "metadata": {
        "id": "JTC9iVdmi44f"
      },
      "execution_count": null,
      "outputs": []
    }
  ]
}